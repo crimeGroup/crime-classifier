{
 "cells": [
  {
   "cell_type": "markdown",
   "metadata": {},
   "source": [
    "# Model\n",
    "\n",
    "Input: \"i witnessed him killing someonee deliberatly\" -> murder\n",
    "Output: murder\n",
    "\n",
    "i wit ##ne ###ssed him kill ##ing some ##one deliberate ##ly\n",
    "\n",
    "BERT, XLNet\n",
    "encoder: 112, 45758, 39403 ... 128x  - contextual embeddings\n",
    "()"
   ]
  },
  {
   "cell_type": "markdown",
   "metadata": {},
   "source": []
  }
 ],
 "metadata": {
  "language_info": {
   "name": "python"
  }
 },
 "nbformat": 4,
 "nbformat_minor": 2
}
